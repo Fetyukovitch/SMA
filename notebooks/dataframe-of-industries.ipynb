{
 "cells": [
  {
   "cell_type": "code",
   "execution_count": 26,
   "id": "42841954",
   "metadata": {},
   "outputs": [
    {
     "data": {
      "text/plain": [
       "'import requests\\n\\nfor symbol in symbols_list:\\n    url = f\"https://query1.finance.yahoo.com/v10/finance/quoteSummary/{symbol}?modules=assetProfile\"\\n    print(url)\\n    response = requests.get(url)\\n    print(response)\\n    data = response.content\\n    \\n    industry = data[\"quoteSummary\"][\"result\"][0][\"assetProfile\"].get(\"industry\", \"N/A\")\\n    print(\"Symbol:\", symbol)\\n    print(\"Industry:\", industry)\\n    '"
      ]
     },
     "execution_count": 26,
     "metadata": {},
     "output_type": "execute_result"
    }
   ],
   "source": [
    "\"\"\"import requests\n",
    "\n",
    "for symbol in symbols_list:\n",
    "    url = f\"https://query1.finance.yahoo.com/v10/finance/quoteSummary/{symbol}?modules=assetProfile\"\n",
    "    print(url)\n",
    "    response = requests.get(url)\n",
    "    print(response)\n",
    "    data = response.content\n",
    "    \n",
    "    industry = data[\"quoteSummary\"][\"result\"][0][\"assetProfile\"].get(\"industry\", \"N/A\")\n",
    "    print(\"Symbol:\", symbol)\n",
    "    print(\"Industry:\", industry)\n",
    "    \"\"\""
   ]
  },
  {
   "cell_type": "code",
   "execution_count": 30,
   "id": "f5718b4e",
   "metadata": {},
   "outputs": [
    {
     "data": {
      "text/plain": [
       "\"\\noffset = 0\\nlimit = None\\nperiod = '10y'\\n\""
      ]
     },
     "execution_count": 30,
     "metadata": {},
     "output_type": "execute_result"
    }
   ],
   "source": [
    "\"\"\"\n",
    "offset = 0\n",
    "limit = None\n",
    "period = '10y'\n",
    "\"\"\""
   ]
  },
  {
   "cell_type": "code",
   "execution_count": 29,
   "id": "ee23fab3",
   "metadata": {},
   "outputs": [
    {
     "data": {
      "text/plain": [
       "'\\nimport pandas as pd\\n\\ndata = pd.read_csv(\"http://www.nasdaqtrader.com/dynamic/SymDir/nasdaqtraded.txt\", sep=\\'|\\')\\ndata_clean = data[data[\\'Test Issue\\'] == \\'N\\']\\nsymbols = data_clean[\\'NASDAQ Symbol\\'].tolist()\\nprint(\\'total number of symbols traded = {}\\'.format(len(symbols)))\\n'"
      ]
     },
     "execution_count": 29,
     "metadata": {},
     "output_type": "execute_result"
    }
   ],
   "source": [
    "\"\"\"\n",
    "import pandas as pd\n",
    "\n",
    "data = pd.read_csv(\"http://www.nasdaqtrader.com/dynamic/SymDir/nasdaqtraded.txt\", sep='|')\n",
    "data_clean = data[data['Test Issue'] == 'N']\n",
    "symbols = data_clean['NASDAQ Symbol'].tolist()\n",
    "print('total number of symbols traded = {}'.format(len(symbols)))\n",
    "\"\"\""
   ]
  },
  {
   "cell_type": "code",
   "execution_count": 31,
   "id": "f5ae0ec3",
   "metadata": {},
   "outputs": [
    {
     "data": {
      "text/plain": [
       "'\\nsymbols_list = data_clean[\"Symbol\"].to_list()\\n'"
      ]
     },
     "execution_count": 31,
     "metadata": {},
     "output_type": "execute_result"
    }
   ],
   "source": [
    "\"\"\"\n",
    "symbols_list = data_clean[\"Symbol\"].to_list()\n",
    "\"\"\""
   ]
  },
  {
   "cell_type": "code",
   "execution_count": 32,
   "id": "b057d205",
   "metadata": {},
   "outputs": [
    {
     "data": {
      "text/plain": [
       "'\\nsymbols_list\\n'"
      ]
     },
     "execution_count": 32,
     "metadata": {},
     "output_type": "execute_result"
    }
   ],
   "source": [
    "\"\"\"\n",
    "symbols_list\n",
    "\"\"\""
   ]
  },
  {
   "cell_type": "code",
   "execution_count": null,
   "id": "febebf6a",
   "metadata": {},
   "outputs": [],
   "source": []
  },
  {
   "cell_type": "code",
   "execution_count": null,
   "id": "e10f9543",
   "metadata": {},
   "outputs": [],
   "source": []
  },
  {
   "cell_type": "code",
   "execution_count": null,
   "id": "f05e4e57",
   "metadata": {},
   "outputs": [],
   "source": []
  },
  {
   "cell_type": "code",
   "execution_count": null,
   "id": "d985c260",
   "metadata": {},
   "outputs": [],
   "source": []
  },
  {
   "cell_type": "code",
   "execution_count": null,
   "id": "2fb7e14b",
   "metadata": {},
   "outputs": [],
   "source": []
  },
  {
   "cell_type": "code",
   "execution_count": null,
   "id": "1695e783",
   "metadata": {},
   "outputs": [],
   "source": []
  },
  {
   "cell_type": "code",
   "execution_count": null,
   "id": "d438230c",
   "metadata": {},
   "outputs": [],
   "source": []
  },
  {
   "cell_type": "code",
   "execution_count": null,
   "id": "c2dc63d7",
   "metadata": {},
   "outputs": [],
   "source": []
  },
  {
   "cell_type": "code",
   "execution_count": null,
   "id": "01fa555d",
   "metadata": {},
   "outputs": [],
   "source": []
  },
  {
   "cell_type": "code",
   "execution_count": null,
   "id": "192c1800",
   "metadata": {},
   "outputs": [],
   "source": []
  },
  {
   "cell_type": "code",
   "execution_count": null,
   "id": "bd5a61bf",
   "metadata": {},
   "outputs": [],
   "source": []
  },
  {
   "cell_type": "code",
   "execution_count": null,
   "id": "7d9633bc",
   "metadata": {},
   "outputs": [],
   "source": []
  },
  {
   "cell_type": "code",
   "execution_count": null,
   "id": "13b6c875",
   "metadata": {},
   "outputs": [],
   "source": []
  },
  {
   "cell_type": "code",
   "execution_count": null,
   "id": "2444c20e",
   "metadata": {},
   "outputs": [],
   "source": []
  },
  {
   "cell_type": "code",
   "execution_count": null,
   "id": "896d74cf",
   "metadata": {},
   "outputs": [],
   "source": []
  },
  {
   "cell_type": "code",
   "execution_count": null,
   "id": "c618fd4d",
   "metadata": {},
   "outputs": [],
   "source": []
  },
  {
   "cell_type": "code",
   "execution_count": null,
   "id": "53cf35d8",
   "metadata": {},
   "outputs": [],
   "source": []
  },
  {
   "cell_type": "code",
   "execution_count": null,
   "id": "b987e2a4",
   "metadata": {},
   "outputs": [],
   "source": []
  },
  {
   "cell_type": "code",
   "execution_count": null,
   "id": "8e2e1a05",
   "metadata": {},
   "outputs": [],
   "source": []
  },
  {
   "cell_type": "code",
   "execution_count": null,
   "id": "2b3b392d",
   "metadata": {},
   "outputs": [],
   "source": []
  },
  {
   "cell_type": "code",
   "execution_count": null,
   "id": "269122e6",
   "metadata": {},
   "outputs": [],
   "source": []
  },
  {
   "cell_type": "code",
   "execution_count": 33,
   "id": "4229315e",
   "metadata": {},
   "outputs": [
    {
     "data": {
      "text/plain": [
       "'\\noffset = 0\\nlimit = None\\nperiod = \\'10y\\'\\nimport pandas as pd\\n\\n\\ndata = pd.read_csv(\"http://www.nasdaqtrader.com/dynamic/SymDir/nasdaqtraded.txt\", sep=\\'|\\')\\ndata_clean = data[data[\\'Test Issue\\'] == \\'N\\']\\nsymbols = data_clean[\\'NASDAQ Symbol\\'].tolist()\\nprint(\\'total number of symbols traded = {}\\'.format(len(symbols)))\\n\\nsymbols_list = data_clean[\"Symbol\"].to_list()\\n\\nindustry_dict = dict()\\n\\nimport yfinance as yf\\n\\nfor symbol in symbols_list:\\n    try:\\n        ticker = yf.Ticker(symbol)\\n        industry = ticker.info.get(\"industry\")\\n        if industry is not None:\\n            industry_dict[symbol] = industry\\n            continue\\n    except Exception as e:\\n        continue\\n'"
      ]
     },
     "execution_count": 33,
     "metadata": {},
     "output_type": "execute_result"
    }
   ],
   "source": [
    "\"\"\"\n",
    "offset = 0\n",
    "limit = None\n",
    "period = '10y'\n",
    "import pandas as pd\n",
    "\n",
    "\n",
    "data = pd.read_csv(\"http://www.nasdaqtrader.com/dynamic/SymDir/nasdaqtraded.txt\", sep='|')\n",
    "data_clean = data[data['Test Issue'] == 'N']\n",
    "symbols = data_clean['NASDAQ Symbol'].tolist()\n",
    "print('total number of symbols traded = {}'.format(len(symbols)))\n",
    "\n",
    "symbols_list = data_clean[\"Symbol\"].to_list()\n",
    "\n",
    "industry_dict = dict()\n",
    "\n",
    "import yfinance as yf\n",
    "\n",
    "for symbol in symbols_list:\n",
    "    try:\n",
    "        ticker = yf.Ticker(symbol)\n",
    "        industry = ticker.info.get(\"industry\")\n",
    "        if industry is not None:\n",
    "            industry_dict[symbol] = industry\n",
    "            continue\n",
    "    except Exception as e:\n",
    "        continue\n",
    "\"\"\""
   ]
  },
  {
   "cell_type": "code",
   "execution_count": null,
   "id": "f31a9a6e",
   "metadata": {},
   "outputs": [],
   "source": [
    "\n"
   ]
  },
  {
   "cell_type": "code",
   "execution_count": 34,
   "id": "9eba9ffd",
   "metadata": {},
   "outputs": [
    {
     "data": {
      "text/plain": [
       "'\\n\\nimport pickle\\n\\nwith open(\"industry.pkl\", \"wb\") as f:\\n    pickle.dump({\"industries\": industry_dict}, f)\\n    \\n    '"
      ]
     },
     "execution_count": 34,
     "metadata": {},
     "output_type": "execute_result"
    }
   ],
   "source": [
    "\"\"\"\n",
    "\n",
    "import pickle\n",
    "\n",
    "with open(\"industry.pkl\", \"wb\") as f:\n",
    "    pickle.dump({\"industries\": industry_dict}, f)\n",
    "    \n",
    "    \"\"\""
   ]
  },
  {
   "cell_type": "code",
   "execution_count": 6,
   "id": "713767aa",
   "metadata": {},
   "outputs": [],
   "source": [
    "with open(\"industry.pkl\", \"rb\") as f:\n",
    "    industries = pickle.load(f)"
   ]
  },
  {
   "cell_type": "code",
   "execution_count": 8,
   "id": "a2acf29c",
   "metadata": {},
   "outputs": [],
   "source": [
    "ind_dict = industries[\"industries\"]"
   ]
  },
  {
   "cell_type": "code",
   "execution_count": 9,
   "id": "9d933905",
   "metadata": {},
   "outputs": [],
   "source": [
    "ind_dict"
   ]
  },
  {
   "cell_type": "code",
   "execution_count": 10,
   "id": "6177318c",
   "metadata": {},
   "outputs": [],
   "source": [
    "import pandas as pd\n",
    "import pickle\n",
    "industries_dict = industries['industries']\n",
    "df = pd.DataFrame(industries_dict.items(), columns=['symbol', 'industry'])"
   ]
  },
  {
   "cell_type": "code",
   "execution_count": 11,
   "id": "2036a0a0",
   "metadata": {},
   "outputs": [],
   "source": [
    "df"
   ]
  },
  {
   "cell_type": "code",
   "execution_count": 4,
   "id": "a488fa46",
   "metadata": {},
   "outputs": [],
   "source": [
    "sorted_df = df.sort_values(\"industry\")"
   ]
  },
  {
   "cell_type": "code",
   "execution_count": 47,
   "id": "f6d7afbb",
   "metadata": {},
   "outputs": [
    {
     "data": {
      "text/html": [
       "<div>\n",
       "<style scoped>\n",
       "    .dataframe tbody tr th:only-of-type {\n",
       "        vertical-align: middle;\n",
       "    }\n",
       "\n",
       "    .dataframe tbody tr th {\n",
       "        vertical-align: top;\n",
       "    }\n",
       "\n",
       "    .dataframe thead th {\n",
       "        text-align: right;\n",
       "    }\n",
       "</style>\n",
       "<table border=\"1\" class=\"dataframe\">\n",
       "  <thead>\n",
       "    <tr style=\"text-align: right;\">\n",
       "      <th></th>\n",
       "      <th>symbol</th>\n",
       "      <th>industry</th>\n",
       "    </tr>\n",
       "  </thead>\n",
       "  <tbody>\n",
       "    <tr>\n",
       "      <th>3971</th>\n",
       "      <td>MOBQ</td>\n",
       "      <td>Advertising Agencies</td>\n",
       "    </tr>\n",
       "    <tr>\n",
       "      <th>3201</th>\n",
       "      <td>IPG</td>\n",
       "      <td>Advertising Agencies</td>\n",
       "    </tr>\n",
       "    <tr>\n",
       "      <th>1588</th>\n",
       "      <td>CTV</td>\n",
       "      <td>Advertising Agencies</td>\n",
       "    </tr>\n",
       "    <tr>\n",
       "      <th>4513</th>\n",
       "      <td>OMC</td>\n",
       "      <td>Advertising Agencies</td>\n",
       "    </tr>\n",
       "    <tr>\n",
       "      <th>6516</th>\n",
       "      <td>WIMI</td>\n",
       "      <td>Advertising Agencies</td>\n",
       "    </tr>\n",
       "    <tr>\n",
       "      <th>...</th>\n",
       "      <td>...</td>\n",
       "      <td>...</td>\n",
       "    </tr>\n",
       "    <tr>\n",
       "      <th>3640</th>\n",
       "      <td>LNZAW</td>\n",
       "      <td>Waste Management</td>\n",
       "    </tr>\n",
       "    <tr>\n",
       "      <th>3639</th>\n",
       "      <td>LNZA</td>\n",
       "      <td>Waste Management</td>\n",
       "    </tr>\n",
       "    <tr>\n",
       "      <th>2801</th>\n",
       "      <td>HCCI</td>\n",
       "      <td>Waste Management</td>\n",
       "    </tr>\n",
       "    <tr>\n",
       "      <th>3840</th>\n",
       "      <td>MEG</td>\n",
       "      <td>Waste Management</td>\n",
       "    </tr>\n",
       "    <tr>\n",
       "      <th>1636</th>\n",
       "      <td>CWST</td>\n",
       "      <td>Waste Management</td>\n",
       "    </tr>\n",
       "  </tbody>\n",
       "</table>\n",
       "<p>6741 rows × 2 columns</p>\n",
       "</div>"
      ],
      "text/plain": [
       "     symbol              industry\n",
       "3971   MOBQ  Advertising Agencies\n",
       "3201    IPG  Advertising Agencies\n",
       "1588    CTV  Advertising Agencies\n",
       "4513    OMC  Advertising Agencies\n",
       "6516   WIMI  Advertising Agencies\n",
       "...     ...                   ...\n",
       "3640  LNZAW      Waste Management\n",
       "3639   LNZA      Waste Management\n",
       "2801   HCCI      Waste Management\n",
       "3840    MEG      Waste Management\n",
       "1636   CWST      Waste Management\n",
       "\n",
       "[6741 rows x 2 columns]"
      ]
     },
     "execution_count": 47,
     "metadata": {},
     "output_type": "execute_result"
    }
   ],
   "source": [
    "sorted_df"
   ]
  },
  {
   "cell_type": "code",
   "execution_count": 1,
   "id": "32b79cda",
   "metadata": {},
   "outputs": [],
   "source": [
    "sorted_df.unique"
   ]
  },
  {
   "cell_type": "code",
   "execution_count": 5,
   "id": "c8e874b5",
   "metadata": {},
   "outputs": [],
   "source": [
    "df.sort_values(\"industry\")"
   ]
  },
  {
   "cell_type": "code",
   "execution_count": 53,
   "id": "cf42ec39",
   "metadata": {},
   "outputs": [
    {
     "name": "stdout",
     "output_type": "stream",
     "text": [
      "[main 713009e] dataframe containing stocks symbols and corresponding industries\n",
      " 1 file changed, 88 insertions(+), 36 deletions(-)\n",
      " rename Untitled.ipynb => df of industries .ipynb (96%)\n",
      "Enumerating objects: 8, done.\n",
      "Counting objects: 100% (8/8), done.\n",
      "Delta compression using up to 8 threads\n",
      "Compressing objects: 100% (7/7), done.\n",
      "Writing objects: 100% (7/7), 44.09 KiB | 4.01 MiB/s, done.\n",
      "Total 7 (delta 2), reused 0 (delta 0), pack-reused 0\n",
      "remote: Resolving deltas: 100% (2/2), done.\u001b[K\n",
      "To github.com:Fetyukovitch/SMA.git\n",
      "   00781ce..713009e  main -> main\n"
     ]
    }
   ],
   "source": [
    "!git add .\n",
    "!git commit -m \"dataframe containing stocks symbols and corresponding industries\"\n",
    "!git push origin main"
   ]
  },
  {
   "cell_type": "code",
   "execution_count": null,
   "id": "7eb3e4e7",
   "metadata": {},
   "outputs": [],
   "source": []
  }
 ],
 "metadata": {
  "kernelspec": {
   "display_name": "Python 3 (ipykernel)",
   "language": "python",
   "name": "python3"
  },
  "language_info": {
   "codemirror_mode": {
    "name": "ipython",
    "version": 3
   },
   "file_extension": ".py",
   "mimetype": "text/x-python",
   "name": "python",
   "nbconvert_exporter": "python",
   "pygments_lexer": "ipython3",
   "version": "3.10.6"
  },
  "toc": {
   "base_numbering": 1,
   "nav_menu": {},
   "number_sections": true,
   "sideBar": true,
   "skip_h1_title": false,
   "title_cell": "Table of Contents",
   "title_sidebar": "Contents",
   "toc_cell": false,
   "toc_position": {},
   "toc_section_display": true,
   "toc_window_display": false
  }
 },
 "nbformat": 4,
 "nbformat_minor": 5
}
