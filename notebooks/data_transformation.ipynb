{
 "cells": [
  {
   "cell_type": "code",
   "execution_count": 1,
   "id": "f9ce0767-1406-4228-89b8-099ba3b57e7c",
   "metadata": {},
   "outputs": [],
   "source": [
    "import pandas as pd"
   ]
  },
  {
   "cell_type": "code",
   "execution_count": 3,
   "id": "1e61d623-9617-493c-b808-c5e4f2e7f868",
   "metadata": {},
   "outputs": [],
   "source": [
    "test_data = pd.read_csv('hist/AAPL.csv')"
   ]
  },
  {
   "cell_type": "code",
   "execution_count": 4,
   "id": "2cedcd4c-db7a-4922-af28-38be3f1a5d79",
   "metadata": {},
   "outputs": [
    {
     "data": {
      "text/plain": [
       "0              NaN\n",
       "1              NaN\n",
       "2              NaN\n",
       "3              NaN\n",
       "4              NaN\n",
       "           ...    \n",
       "2514    172.051314\n",
       "2515    172.448527\n",
       "2516    172.895667\n",
       "2517    173.539232\n",
       "2518    174.308682\n",
       "Name: Adj Close, Length: 2519, dtype: float64"
      ]
     },
     "execution_count": 4,
     "metadata": {},
     "output_type": "execute_result"
    }
   ],
   "source": [
    "SMA\n",
    "\n",
    "test_data['Adj Close'].rolling(window=20).mean()\n",
    "test_data['Adj Close'].rolling(window=50).mean()      "
   ]
  },
  {
   "cell_type": "code",
   "execution_count": null,
   "id": "cf8b6252-e06a-4e3b-b129-6024cd939efc",
   "metadata": {},
   "outputs": [],
   "source": [
    "exp1 = data['Adj Close'].ewm(span=12, adjust=False).mean()\n",
    "exp2 = data['Adj Close'].ewm(span=26, adjust=False).mean()\n",
    "macd = exp1 - exp2\n",
    "signal = macd.ewm(span=9, adjust=False).mean()\n",
    "data['MACD'] = macd - signal"
   ]
  },
  {
   "cell_type": "code",
   "execution_count": null,
   "id": "b6bdd7c9-7127-4baf-8c1b-cc089b19bbec",
   "metadata": {},
   "outputs": [],
   "source": [
    "delta = data['Adj Close'].diff()\n",
    "delta = delta[1:]\n",
    "up = delta.copy()\n",
    "down = delta.copy()\n",
    "up[up < 0] = 0\n",
    "down[down > 0] = 0\n",
    "average_gain = up.rolling(window=14).mean()\n",
    "average_loss = abs(down.rolling(window=14).mean())\n",
    "rs = average_gain / average_loss\n",
    "data['RSI'] = 100 - (100 / (1 + rs))"
   ]
  },
  {
   "cell_type": "code",
   "execution_count": null,
   "id": "2422b20d-5a3c-4aab-b154-c0bb3b423ee9",
   "metadata": {},
   "outputs": [],
   "source": []
  }
 ],
 "metadata": {
  "kernelspec": {
   "display_name": "Python 3 (ipykernel)",
   "language": "python",
   "name": "python3"
  },
  "language_info": {
   "codemirror_mode": {
    "name": "ipython",
    "version": 3
   },
   "file_extension": ".py",
   "mimetype": "text/x-python",
   "name": "python",
   "nbconvert_exporter": "python",
   "pygments_lexer": "ipython3",
   "version": "3.10.6"
  }
 },
 "nbformat": 4,
 "nbformat_minor": 5
}
