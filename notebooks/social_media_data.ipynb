{
 "cells": [
  {
   "cell_type": "code",
   "execution_count": 78,
   "id": "884a658b-52f4-4850-b20c-920bb4c7157b",
   "metadata": {},
   "outputs": [
    {
     "name": "stdout",
     "output_type": "stream",
     "text": [
      "Defaulting to user installation because normal site-packages is not writeable\n",
      "Collecting psaw\n",
      "  Downloading psaw-0.1.0-py3-none-any.whl (15 kB)\n",
      "Requirement already satisfied: requests in /home/lico/.local/lib/python3.10/site-packages (from psaw) (2.28.1)\n",
      "Requirement already satisfied: Click in /home/lico/.local/lib/python3.10/site-packages (from psaw) (8.1.3)\n",
      "Requirement already satisfied: charset-normalizer<3,>=2 in /home/lico/.local/lib/python3.10/site-packages (from requests->psaw) (2.1.1)\n",
      "Requirement already satisfied: idna<4,>=2.5 in /usr/lib/python3.10/site-packages (from requests->psaw) (3.4)\n",
      "Requirement already satisfied: urllib3<1.27,>=1.21.1 in /home/lico/.local/lib/python3.10/site-packages (from requests->psaw) (1.26.12)\n",
      "Requirement already satisfied: certifi>=2017.4.17 in /home/lico/.local/lib/python3.10/site-packages (from requests->psaw) (2022.9.24)\n",
      "Installing collected packages: psaw\n",
      "Successfully installed psaw-0.1.0\n"
     ]
    }
   ],
   "source": [
    "#!pip install tweepy\n",
    "!pip install praw \n",
    "#!pip install psaw"
   ]
  },
  {
   "cell_type": "code",
   "execution_count": 2,
   "id": "3d0937e5-8024-4fce-afa8-b4ec7e94c8f5",
   "metadata": {},
   "outputs": [],
   "source": [
    "import tweepy\n",
    "import os\n",
    "\n",
    "CONSUMER_KEY = os.environ['TW_API_KEY']\n",
    "CONSUMER_KEY_SECRET = os.environ['TW_API_KEY_SECRET']\n",
    "TW_ACCESS_TOKEN = os.environ['TW_ACCESS_TOKEN']\n",
    "TW_ACCESS_TOKEN_SECRET = os.environ['TW_ACCESS_TOKEN_SECRET']\n",
    "\n",
    "twitter_project_id = os.environ['TW_PROJECT_ID']\n",
    "\n",
    "#auth = tweepy.OAuth1UserHandler(\n",
    "#    CONSUMER_KEY, CONSUMER_KEY_SECRET, TW_ACCESS_TOKEN, TW_ACCESS_TOKEN_SECRET\n",
    "#)\n",
    "\n",
    " #api = tweepy.API(auth)"
   ]
  },
  {
   "cell_type": "code",
   "execution_count": null,
   "id": "9aeb7949-9a4c-4ee1-bbac-b474e0b70662",
   "metadata": {},
   "outputs": [],
   "source": [
    "hashtag = '#luna2'\n",
    "limit=3\n",
    "\n",
    "tweets = tweepy.Cursor(api.search_tweets, q=hashtag, tweet_mode='extended').items(limit)\n",
    "tweets"
   ]
  },
  {
   "cell_type": "code",
   "execution_count": null,
   "id": "93621b56-c2ca-4a1a-904b-a1671c65cd44",
   "metadata": {},
   "outputs": [],
   "source": [
    "for tweet in tweets:\n",
    "    print(tweet)"
   ]
  },
  {
   "cell_type": "code",
   "execution_count": 6,
   "id": "8eeb5dea-897c-4f83-a764-3273ab361636",
   "metadata": {
    "tags": []
   },
   "outputs": [],
   "source": [
    "import praw\n",
    "from datetime import datetime, timedelta\n",
    "import os\n",
    "# Configura las credenciales de la API de Reddit\n",
    "client_id = os.environ['RD_CLIENT_ID']\n",
    "client_secret = os.environ['RD_CLIENT_SECRET']\n",
    "user_agent = os.environ['RD_USER_AGENT']\n",
    "username = os.environ['RD_USERNAME']\n",
    "password= os.environ['RD_PASSWORD']\n",
    "\n",
    "# Crea una instancia del objeto Reddit\n",
    "reddit = praw.Reddit(\n",
    "    client_id=client_id, \n",
    "    client_secret=client_secret, \n",
    "    user_agent=user_agent, \n",
    "    username=username,\n",
    "    password=password\n",
    ")\n",
    "\n",
    "# Especifica el subreddit que deseas acceder\n",
    "subreddit_name = 'wallstreetbets'\n",
    "\n",
    "# Obtiene los títulos de los posts del subreddit\n",
    "subreddit = reddit.subreddit(subreddit_name)\n",
    "#subreddit_search = subreddit.search(query='timestamp:{}..{}'.format(start_timestamp, end_timestamp), time_filter='all')\n",
    "#for submission in subreddit_search: # Cambia el límite según tus necesidades\n",
    "#    print(submission.text)"
   ]
  },
  {
   "cell_type": "code",
   "execution_count": 8,
   "id": "78dc2bf0-4bb8-4c28-9911-6409d6e30db8",
   "metadata": {},
   "outputs": [],
   "source": [
    "import pandas as pd\n",
    "from datetime import datetime\n",
    "\n",
    "messages = pd.DataFrame(columns=['title', 'message', 'created_at', 'score'])\n",
    "stock = 'AAPL'\n",
    "for message in subreddit.search(stock, limit=1500 ):\n",
    "    messages.loc[len(messages)] = [message.title, message.selftext, datetime.fromtimestamp(message.created_utc).strftime(\"%Y-%m-%d\"), message.score]\n"
   ]
  },
  {
   "cell_type": "code",
   "execution_count": 9,
   "id": "d7da7146-1916-46b8-aa93-14387f4b884d",
   "metadata": {},
   "outputs": [],
   "source": [
    "messages = messages.sort_values('score', ascending=False, ignore_index=True)\n",
    "messages.to_csv(f'../raw_data/reddit_{stock}.csv', index=False )"
   ]
  },
  {
   "cell_type": "code",
   "execution_count": 106,
   "id": "6dd5d288-bbfb-4467-9919-add0a39d5892",
   "metadata": {
    "collapsed": true,
    "jupyter": {
     "outputs_hidden": true
    },
    "tags": []
   },
   "outputs": [
    {
     "ename": "TypeError",
     "evalue": "ListingGenerator.__init__() got an unexpected keyword argument 'sort'",
     "output_type": "error",
     "traceback": [
      "\u001b[0;31m---------------------------------------------------------------------------\u001b[0m",
      "\u001b[0;31mTypeError\u001b[0m                                 Traceback (most recent call last)",
      "Cell \u001b[0;32mIn [106], line 1\u001b[0m\n\u001b[0;32m----> 1\u001b[0m subreddits \u001b[38;5;241m=\u001b[39m \u001b[43mreddit\u001b[49m\u001b[38;5;241;43m.\u001b[39;49m\u001b[43msubreddits\u001b[49m\u001b[38;5;241;43m.\u001b[39;49m\u001b[43msearch\u001b[49m\u001b[43m(\u001b[49m\u001b[43mquery\u001b[49m\u001b[38;5;241;43m=\u001b[39;49m\u001b[43msubreddit_name\u001b[49m\u001b[43m,\u001b[49m\u001b[43m \u001b[49m\u001b[43msort\u001b[49m\u001b[38;5;241;43m=\u001b[39;49m\u001b[38;5;124;43m'\u001b[39;49m\u001b[38;5;124;43msubscribers\u001b[39;49m\u001b[38;5;124;43m'\u001b[39;49m\u001b[43m,\u001b[49m\u001b[43m \u001b[49m\u001b[43mtime_filter\u001b[49m\u001b[38;5;241;43m=\u001b[39;49m\u001b[38;5;124;43m'\u001b[39;49m\u001b[38;5;124;43mall\u001b[39;49m\u001b[38;5;124;43m'\u001b[39;49m\u001b[43m)\u001b[49m\n",
      "File \u001b[0;32m~/.local/lib/python3.10/site-packages/praw/models/subreddits.py:127\u001b[0m, in \u001b[0;36mSubreddits.search\u001b[0;34m(self, query, **generator_kwargs)\u001b[0m\n\u001b[1;32m    112\u001b[0m \u001b[38;5;124;03m\"\"\"Return a :class:`.ListingGenerator` of subreddits matching ``query``.\u001b[39;00m\n\u001b[1;32m    113\u001b[0m \n\u001b[1;32m    114\u001b[0m \u001b[38;5;124;03mSubreddits are searched by both their title and description.\u001b[39;00m\n\u001b[0;32m   (...)\u001b[0m\n\u001b[1;32m    124\u001b[0m \n\u001b[1;32m    125\u001b[0m \u001b[38;5;124;03m\"\"\"\u001b[39;00m\n\u001b[1;32m    126\u001b[0m \u001b[38;5;28mself\u001b[39m\u001b[38;5;241m.\u001b[39m_safely_add_arguments(arguments\u001b[38;5;241m=\u001b[39mgenerator_kwargs, key\u001b[38;5;241m=\u001b[39m\u001b[38;5;124m\"\u001b[39m\u001b[38;5;124mparams\u001b[39m\u001b[38;5;124m\"\u001b[39m, q\u001b[38;5;241m=\u001b[39mquery)\n\u001b[0;32m--> 127\u001b[0m \u001b[38;5;28;01mreturn\u001b[39;00m \u001b[43mListingGenerator\u001b[49m\u001b[43m(\u001b[49m\n\u001b[1;32m    128\u001b[0m \u001b[43m    \u001b[49m\u001b[38;5;28;43mself\u001b[39;49m\u001b[38;5;241;43m.\u001b[39;49m\u001b[43m_reddit\u001b[49m\u001b[43m,\u001b[49m\u001b[43m \u001b[49m\u001b[43mAPI_PATH\u001b[49m\u001b[43m[\u001b[49m\u001b[38;5;124;43m\"\u001b[39;49m\u001b[38;5;124;43msubreddits_search\u001b[39;49m\u001b[38;5;124;43m\"\u001b[39;49m\u001b[43m]\u001b[49m\u001b[43m,\u001b[49m\u001b[43m \u001b[49m\u001b[38;5;241;43m*\u001b[39;49m\u001b[38;5;241;43m*\u001b[39;49m\u001b[43mgenerator_kwargs\u001b[49m\n\u001b[1;32m    129\u001b[0m \u001b[43m\u001b[49m\u001b[43m)\u001b[49m\n",
      "\u001b[0;31mTypeError\u001b[0m: ListingGenerator.__init__() got an unexpected keyword argument 'sort'"
     ]
    }
   ],
   "source": [
    "subreddits = reddit.subreddits.search(query=subreddit_name, sort='subscribers', time_filter='all')\n",
    "#sorted_subreddits = sorted(subreddits, key=lambda x: x.subscribers, reverse=True)\n",
    "\n",
    "#for subreddit in sorted_subreddits:\n",
    "#    print(subreddit.display_name)  # Nombre del subreddit\n",
    "#    print(subreddit.subscribers)  # Número de suscriptores\n",
    "#    print(subreddit.public_description)  # Descripción pública del subreddit\n",
    "#    print(\"---\")\n",
    "#for submission in subreddit.hot(limit=3): # Cambia el límite según tus necesidades\n",
    "#    print(submission.view_count)"
   ]
  },
  {
   "cell_type": "code",
   "execution_count": 142,
   "id": "15e99d90-38b8-45ae-99b8-7300579c4572",
   "metadata": {},
   "outputs": [
    {
     "data": {
      "text/plain": [
       "['Home',\n",
       " 'mildlyinfuriating',\n",
       " 'AskReddit',\n",
       " 'facepalm',\n",
       " 'AmItheAsshole',\n",
       " 'WhitePeopleTwitter',\n",
       " 'Unexpected',\n",
       " 'antiwork',\n",
       " 'funny',\n",
       " 'nba']"
      ]
     },
     "execution_count": 142,
     "metadata": {},
     "output_type": "execute_result"
    }
   ],
   "source": [
    "#popular = reddit.subreddits.popular(limit=10)\n",
    "#popular = reddit.subreddits.new()\n",
    "#popular_list = [p.display_name for p in popular]\n",
    "#\n",
    "#popular_list"
   ]
  },
  {
   "cell_type": "code",
   "execution_count": 136,
   "id": "22cfe275-c159-41ae-8522-b83265c3f92d",
   "metadata": {},
   "outputs": [
    {
     "name": "stdout",
     "output_type": "stream",
     "text": [
      "mildlyinfuriating\n",
      "False\n",
      ">[](https://td.reddit.com/r/mildlyinfuriating/#image)\n",
      "[Enter mildyinfuriating &nbsp; &nbsp;( ͡° ͜ʖ ͡°)](https://td.reddit.com/r/mildlyinfuriating/#button)\n",
      "\n",
      "Is your day filled with midly infuriating problems? You came to the right place then.\n",
      "\n",
      "**Rules**:\n",
      "\n",
      "A: No reddit meta posts.\n",
      "\n",
      "1) [No Memes or \"meme-like\" image macros.](http://www.reddit.com/r/mildlyinfuriating/comments/1exsuk/meta_modpost_new_rule_see_inside_for_details/) No Memes or \"meme-like\" image macros. These include overdone references in the title (e.g. “banana for scale”, “potato quality”, and so on).\n",
      "\n",
      "8) Content requirements:\n",
      "\n",
      "* a) Please try to post original content. Reposts or crossposts of someone else's content will be removed if it has been posted on Reddit within the past 6 months. At the moderator's discretion, content posted without the author's original consent or without linking to an original source will also be removed.\n",
      "* b) No GIFs that end slightly before something happens ([Example](http://i.imgur.com/Lq6m5QY.gifv))\n",
      "* c) Unn^ecessarily overdone ^text, ar&rarr;rows, scribbles, or substantive edits over the original content are not allowed.\n",
      "* d) No posting surveys - posts about surveys are allowed, however bear in mind they are often overdone.\n",
      "* f) Blur out any personal information. (Full names, phone numbers, license plates etc.)\n",
      "* f) R3: Respect Reddiquette and Follow Reddit Rules\n",
      "* g) R4: No grandstanding, politics, or pushing agendas. No meta reddit posts.\n",
      " This includes posts that could be, within reason, regarded as politically, sexually, racially, or socially inappropriate or unnecessary. ([Example](https://i.imgur.com/Um3eIs7.jpg)). Posts that push an agenda of any sort is also prohibited, including inappropriate posts about this subreddit or other subs as described in \"prevent brigading\" rule. If you're unsure if your post or comment falls under this rule, message the mods to ask!\n",
      "4) R5: Prevent brigading, including using \"np\" links for Reddit\n",
      "\n",
      "6) Prevent brigading. Mentioning subreddits is fine; talking about them in a negative way is not - Use modmail for disputes, not posts. Also, when posting links to reddit in comments, please use ^[np.reddit.com](np.reddit.com) formatting in order to prevent brigading.\n",
      "\n",
      "These rules are **subject to the moderator's discretion**, and can change at any time. A full, in-dpeth explanation can be found in the wiki [here](https://www.reddit.com/r/mildlyinfuriating/about/rules).\n",
      "\n",
      "*Repeated violation of rules may result in banning*\n",
      "\n",
      "3) Added emphasis on rule 8g: NO POLITICS\n",
      "\n",
      "7) /u/dnanf may post whatever he wants, even if it's shit. It is your duty as a good redditor to upvote his posts.\n",
      "\n",
      "\n",
      "\n",
      "\n",
      "**The Mild Network:**\n",
      "\n",
      "* /r/MildlyAmusing\n",
      "\n",
      "* /r/MildlyAwesome\n",
      "\n",
      "* r/MildlyAww\n",
      "\n",
      "* /r/MildlyBestOf\n",
      "\n",
      "* /r/MildlyConfusing\n",
      "\n",
      "* /r/MildlyCreepy\n",
      "\n",
      "* r/MildlyDangerous\n",
      "\n",
      "* /r/MildlyDepressing\n",
      "\n",
      "* /r/MildlyDisgusting\n",
      "\n",
      "* /r/MildlyDisturbing\n",
      "\n",
      "* /r/MildlyEnteristing\n",
      "\n",
      "* /r/MildlyImpressive\n",
      "\n",
      "* /r/MildlyMotivated\n",
      "\n",
      "* /r/MildlyInteresting\n",
      "\n",
      "* r/MildlyInterestingIAmA\n",
      "\n",
      "* /r/MildlyInterestingMC (Minecraft)\n",
      "\n",
      "* /r/MildlyMetal \n",
      "\n",
      "* /r/MildlyOffensive\n",
      "\n",
      "* /r/MildlyPleasing\n",
      "\n",
      "* /r/MildlySatisfying\n",
      "\n",
      "* /r/MildlyStartledCats \n",
      "\n",
      "* r/MildlyStupid\n",
      "\n",
      "* /r/MildlyUninteresting\n",
      "\n",
      "* /r/MildlyWeird\n",
      "\n",
      "* /r/MildlyWTF\n",
      "\n",
      "**Our Friends:**\n",
      "\n",
      "* /r/extremelyinfuriating \n",
      "\n",
      "* /r/gifsthatendtoosoon **NEW: Please post gifs that end too soon in that sub, instead of here.**\n",
      "\n",
      "* /r/QuestionCollege **NEW**\n",
      "\n",
      "* /r/UnnecessaryQuotes\n",
      "\n",
      "* /r/PerfectFit\n",
      "\n",
      "* /r/FakeRedditNews\n",
      "\n",
      "* /r/OddlySatisfying\n",
      "\n",
      "* /r/SlightlyUnsatisfying\n",
      "\n",
      "* /r/FunnyAndSad\n",
      "\n",
      "* r/Today_I_Realized\n",
      "\n",
      "* /r/WellThatSucks \n",
      "\n",
      "* /r/BadParking \n",
      "\n",
      "* r/BloodFueledRage\n",
      "\n",
      "* /r/Rage\n",
      "\n",
      "* /r/Infuriating\n",
      "\n",
      "* /r/Amusing\n",
      "\n",
      "* /r/BenignExistence\n",
      "\n",
      "* /r/CasualIAmA\n",
      "\n",
      "* /r/InterestingAnecdote\n",
      "\n",
      "* /r/GrindsMyGears\n",
      "\n",
      "* /r/HowToNotGiveaFuck\n",
      "\n",
      "* /r/NotQuiteWTF\n",
      "\n",
      "* /r/Onejob\n",
      "\n",
      "* /r/Vastlystupid \n",
      "\n",
      "* /r/PleaseJustStop  \n",
      "\n",
      "* /r/BadYTAds  \n",
      "\n",
      "[More mildly related subreddits](http://www.reddit.com/r/mildlyinteresting/comments/zytpk/list_of_similar_subreddits_and_mild_network/)\n",
      "\n",
      "[Click Here](http://www.reddit.com/r/mildlyinfuriating/comments/17nzkh/meta_announcement_new_flair_options/) for details about flair!\n",
      "\n",
      "\n",
      "##[New Posts](http://www.reddit.com/r/mildlyinfuriating/new)##\n",
      "\n",
      "\n",
      "[](/r/simulated 'This is the best /r/simulated has to offer')\n",
      "\n",
      "[](https://www.reddit.com/r/mildlyinfuriating/comments/dzlehu/congrats_on_2_million_here_is_the_double#sidebar)\n",
      "\n",
      "[test](#ad1)\n",
      "\n",
      "jukmifgguggh\n",
      "\n",
      "[💰💰💰 Nothing💸is💸more💸infuriating💸than💸restricted💸internet 💰💰💰](https://www.battleforthenet.com/ \"COME ON!! CLICK IT! DOOOOOO ITTTTTT\")\n",
      "\n",
      "[](https://redd.it/82yfzr \"What are you doing over there?\")\n",
      "\n",
      "[](#youtube-footer)\n"
     ]
    },
    {
     "data": {
      "text/plain": [
       "'for topic in popular_list:\\n    print(topic)\\n    subreddit = reddit.subreddit(topic)\\n    print(subreddit)\\n    resulset.append(subreddit.public_description)\\n    resulset.append(subreddit.display_name)\\nprint(resulset)'"
      ]
     },
     "execution_count": 136,
     "metadata": {},
     "output_type": "execute_result"
    }
   ],
   "source": [
    "resulset = []\n",
    "#print(popular_list)\n",
    "#popular_list = list(popular.)\n",
    "#subreddit1 = reddit.subreddit(popular_list[2])\n",
    "#subreddit2 = reddit.subreddit(popular_list[1])\n",
    "\n",
    "print(subreddit2.display_name)\n",
    "print(subreddit2.all_original_content)\n",
    "print(subreddit2.description)\n",
    "\"\"\"for topic in popular_list:\n",
    "    print(topic)\n",
    "    subreddit = reddit.subreddit(topic)\n",
    "    print(subreddit)\n",
    "    resulset.append(subreddit.public_description)\n",
    "    resulset.append(subreddit.display_name)\n",
    "print(resulset)\"\"\""
   ]
  },
  {
   "cell_type": "code",
   "execution_count": 130,
   "id": "f0a498c3-e893-4e55-94a8-217ebe11a7f6",
   "metadata": {},
   "outputs": [
    {
     "data": {
      "text/plain": [
       "['',\n",
       " 'jukmifgguggh fbrltbruh',\n",
       " 'r/AskReddit is the place to ask and answer thought-provoking questions.',\n",
       " '*A subreddit for you to share the stupidity of individuals online and IRL. Post screenshots from forums, social media sites, or just real life. \\n---------------------------------------------------  \\n\\n***PLEASE*** read all of the sidebar before posting, thanks!  \\n-------------------------------------------',\n",
       " 'A catharsis for the frustrated moral philosopher in all of us, and a place to finally find out if you were wrong in an argument that\\'s been bothering you. Tell us about any non-violent conflict you have experienced; give us both sides of the story, and find out if you\\'re right, or you\\'re the asshole. \\n\\nSee our ~~*Best Of*~~ \"Most Controversial\" at /r/AITAFiltered!',\n",
       " 'People tweeting stuff. We allow tweets from anyone.',\n",
       " 'This subreddit is for unexpected twists in videos and gifs.',\n",
       " 'A subreddit for those who want to end work, are curious about ending work, want to get the most out of a work-free life, want more information on anti-work ideas and want personal help with their own jobs/work-related struggles.',\n",
       " \"Welcome to r/Funny, Reddit's largest humour depository.\",\n",
       " 'A subreddit dedicated to NBA news and discussion.']"
      ]
     },
     "execution_count": 130,
     "metadata": {},
     "output_type": "execute_result"
    }
   ],
   "source": [
    "resulset"
   ]
  }
 ],
 "metadata": {
  "kernelspec": {
   "display_name": "Python 3 (ipykernel)",
   "language": "python",
   "name": "python3"
  },
  "language_info": {
   "codemirror_mode": {
    "name": "ipython",
    "version": 3
   },
   "file_extension": ".py",
   "mimetype": "text/x-python",
   "name": "python",
   "nbconvert_exporter": "python",
   "pygments_lexer": "ipython3",
   "version": "3.10.10"
  }
 },
 "nbformat": 4,
 "nbformat_minor": 5
}
