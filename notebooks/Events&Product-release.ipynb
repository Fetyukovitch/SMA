{
 "cells": [
  {
   "cell_type": "code",
   "execution_count": 2,
   "id": "f222a66b",
   "metadata": {},
   "outputs": [
    {
     "data": {
      "text/plain": [
       "'\\nfor date in event_dates:\\n    if date not in all_dates_:\\n        print(date)\\n        \\nlen(set(all_dates + event_dates))\\n'"
      ]
     },
     "execution_count": 2,
     "metadata": {},
     "output_type": "execute_result"
    }
   ],
   "source": [
    "import pandas as pd\n",
    "\n",
    "# Sorted dates without duplicates\n",
    "sorted_dates = [\n",
    "    '2018-07-12', '2018-09-21', '2018-10-26', '2018-10-30', '2018-11-07',\n",
    "    '2019-03-18', '2019-03-19', '2019-03-20', '2019-03-25', '2019-05-21',\n",
    "    '2019-05-28', '2019-06-03', '2019-06-04', '2019-06-05', '2019-06-06',\n",
    "    '2019-06-07', '2019-07-09', '2019-08-20', '2019-09-10', '2019-09-20',\n",
    "    '2019-09-25', '2020-03-18', '2020-04-24', '2020-05-04', '2020-06-22',\n",
    "    '2020-06-23', '2020-06-24', '2020-06-25', '2020-06-26', '2020-08-04',\n",
    "    '2020-09-15', '2020-09-18', '2020-10-13', '2020-10-23', '2020-11-10',\n",
    "    '2020-11-13', '2020-11-16', '2020-11-17', '2020-12-15', '2021-04-20',\n",
    "    '2021-04-30', '2021-05-21', '2021-07-13', '2021-09-14', '2021-09-24',\n",
    "    '2021-10-08', '2021-10-18', '2021-10-26', '2021-11-01', '2022-03-08',\n",
    "    '2022-03-18', '2022-06-06', '2022-06-07', '2022-06-08', '2022-06-09',\n",
    "    '2022-06-10', '2022-06-24', '2022-07-15', '2022-09-07', '2022-09-16',\n",
    "    '2022-09-23', '2022-10-07', '2022-10-26', '2022-11-04', '2023-01-24',\n",
    "    '2023-02-03', '2023-06-05'\n",
    "]\n",
    "\n",
    "# Create DataFrame with dates and a column with all entries as \"1\"\n",
    "flag_df = pd.DataFrame({'Date': sorted_dates})\n",
    "flag_df['Entry'] = 1\n",
    "\n",
    "# Display the DataFrame\n",
    "event_dates = flag_df[\"Date\"].to_list()\n",
    "\n",
    "\"\"\"\n",
    "for date in event_dates:\n",
    "    if date not in all_dates_:\n",
    "        print(date)\n",
    "        \n",
    "len(set(all_dates + event_dates))\n",
    "\"\"\""
   ]
  },
  {
   "cell_type": "code",
   "execution_count": 4,
   "id": "62d7cf7a",
   "metadata": {},
   "outputs": [
    {
     "data": {
      "text/plain": [
       "'\\ndata_ = yf.download(\"AAPL\",\"2018-06-12\",\"2023-06-06\")\\n'"
      ]
     },
     "execution_count": 4,
     "metadata": {},
     "output_type": "execute_result"
    }
   ],
   "source": [
    "\"\"\"\n",
    "data_ = yf.download(\"AAPL\",\"2018-06-12\",\"2023-06-06\")\n",
    "\"\"\"\n"
   ]
  },
  {
   "cell_type": "code",
   "execution_count": 5,
   "id": "6cf2e024",
   "metadata": {},
   "outputs": [
    {
     "data": {
      "text/plain": [
       "'\\ndata_[\"Date\"] = data_[\"Date\"].astype(str)\\nall_dates_ = data_[\"Date\"].to_list()\\n'"
      ]
     },
     "execution_count": 5,
     "metadata": {},
     "output_type": "execute_result"
    }
   ],
   "source": [
    "\"\"\"\n",
    "data_[\"Date\"] = data_[\"Date\"].astype(str)\n",
    "all_dates_ = data_[\"Date\"].to_list()\n",
    "\"\"\""
   ]
  },
  {
   "cell_type": "code",
   "execution_count": 6,
   "id": "13378bde",
   "metadata": {},
   "outputs": [
    {
     "name": "stdout",
     "output_type": "stream",
     "text": [
      "[*********************100%***********************]  1 of 1 completed\n"
     ]
    }
   ],
   "source": [
    "import yfinance as yf\n",
    "data= yf.download(\"AAPL\",\"2018-06-12\",\"2023-06-06\")\n",
    "close_df= pd.DataFrame(data['Close'])\n",
    "close_df = close_df.sort_values(by='Date',ascending=True)\n",
    "close_df.reset_index(drop=False, inplace=True)\n",
    "dates_df=close_df.drop(\"Close\", axis=1)\n",
    "all_dates = dates_df[\"Date\"].to_list()\n",
    "\n",
    "all_dates = [str(date)[:10] for date in all_dates]"
   ]
  },
  {
   "cell_type": "code",
   "execution_count": 7,
   "id": "bb740e7a",
   "metadata": {},
   "outputs": [],
   "source": [
    "dates_df['Date'] = pd.to_datetime(dates_df['Date'])\n",
    "\n",
    "# Convert \"Date\" column to datetime in df_EPS\n",
    "flag_df['Date'] = pd.to_datetime(flag_df['Date'])\n",
    "\n",
    "# Merge df_EPS onto df_new using left merge\n",
    "whether_releases_df = dates_df.merge(flag_df, on='Date', how='left')\n",
    "whether_releases_df['Entry'] = whether_releases_df['Entry'].fillna(0)\n",
    "whether_releases_df.to_csv('/Users/emanuelbayat/code/Fetyukovitch/SMA/raw_data/whether_releases_df.csv', index=False)"
   ]
  },
  {
   "cell_type": "code",
   "execution_count": 8,
   "id": "591818e5",
   "metadata": {},
   "outputs": [
    {
     "data": {
      "text/html": [
       "<div>\n",
       "<style scoped>\n",
       "    .dataframe tbody tr th:only-of-type {\n",
       "        vertical-align: middle;\n",
       "    }\n",
       "\n",
       "    .dataframe tbody tr th {\n",
       "        vertical-align: top;\n",
       "    }\n",
       "\n",
       "    .dataframe thead th {\n",
       "        text-align: right;\n",
       "    }\n",
       "</style>\n",
       "<table border=\"1\" class=\"dataframe\">\n",
       "  <thead>\n",
       "    <tr style=\"text-align: right;\">\n",
       "      <th></th>\n",
       "      <th>Date</th>\n",
       "      <th>Entry</th>\n",
       "    </tr>\n",
       "  </thead>\n",
       "  <tbody>\n",
       "    <tr>\n",
       "      <th>0</th>\n",
       "      <td>2018-06-12</td>\n",
       "      <td>0.0</td>\n",
       "    </tr>\n",
       "    <tr>\n",
       "      <th>1</th>\n",
       "      <td>2018-06-13</td>\n",
       "      <td>0.0</td>\n",
       "    </tr>\n",
       "    <tr>\n",
       "      <th>2</th>\n",
       "      <td>2018-06-14</td>\n",
       "      <td>0.0</td>\n",
       "    </tr>\n",
       "    <tr>\n",
       "      <th>3</th>\n",
       "      <td>2018-06-15</td>\n",
       "      <td>0.0</td>\n",
       "    </tr>\n",
       "    <tr>\n",
       "      <th>4</th>\n",
       "      <td>2018-06-18</td>\n",
       "      <td>0.0</td>\n",
       "    </tr>\n",
       "    <tr>\n",
       "      <th>...</th>\n",
       "      <td>...</td>\n",
       "      <td>...</td>\n",
       "    </tr>\n",
       "    <tr>\n",
       "      <th>1249</th>\n",
       "      <td>2023-05-30</td>\n",
       "      <td>0.0</td>\n",
       "    </tr>\n",
       "    <tr>\n",
       "      <th>1250</th>\n",
       "      <td>2023-05-31</td>\n",
       "      <td>0.0</td>\n",
       "    </tr>\n",
       "    <tr>\n",
       "      <th>1251</th>\n",
       "      <td>2023-06-01</td>\n",
       "      <td>0.0</td>\n",
       "    </tr>\n",
       "    <tr>\n",
       "      <th>1252</th>\n",
       "      <td>2023-06-02</td>\n",
       "      <td>0.0</td>\n",
       "    </tr>\n",
       "    <tr>\n",
       "      <th>1253</th>\n",
       "      <td>2023-06-05</td>\n",
       "      <td>1.0</td>\n",
       "    </tr>\n",
       "  </tbody>\n",
       "</table>\n",
       "<p>1254 rows × 2 columns</p>\n",
       "</div>"
      ],
      "text/plain": [
       "           Date  Entry\n",
       "0    2018-06-12    0.0\n",
       "1    2018-06-13    0.0\n",
       "2    2018-06-14    0.0\n",
       "3    2018-06-15    0.0\n",
       "4    2018-06-18    0.0\n",
       "...         ...    ...\n",
       "1249 2023-05-30    0.0\n",
       "1250 2023-05-31    0.0\n",
       "1251 2023-06-01    0.0\n",
       "1252 2023-06-02    0.0\n",
       "1253 2023-06-05    1.0\n",
       "\n",
       "[1254 rows x 2 columns]"
      ]
     },
     "execution_count": 8,
     "metadata": {},
     "output_type": "execute_result"
    }
   ],
   "source": [
    "whether_releases_df\n"
   ]
  },
  {
   "cell_type": "code",
   "execution_count": null,
   "id": "aa9a320e",
   "metadata": {},
   "outputs": [],
   "source": [
    "!git add .\n",
    "!git commit -m \"dataframe of dates AAPL had any events or product releases with corresponding \"\n",
    "!git push origin main"
   ]
  }
 ],
 "metadata": {
  "kernelspec": {
   "display_name": "Python 3 (ipykernel)",
   "language": "python",
   "name": "python3"
  },
  "language_info": {
   "codemirror_mode": {
    "name": "ipython",
    "version": 3
   },
   "file_extension": ".py",
   "mimetype": "text/x-python",
   "name": "python",
   "nbconvert_exporter": "python",
   "pygments_lexer": "ipython3",
   "version": "3.10.6"
  },
  "toc": {
   "base_numbering": 1,
   "nav_menu": {},
   "number_sections": true,
   "sideBar": true,
   "skip_h1_title": false,
   "title_cell": "Table of Contents",
   "title_sidebar": "Contents",
   "toc_cell": false,
   "toc_position": {},
   "toc_section_display": true,
   "toc_window_display": false
  }
 },
 "nbformat": 4,
 "nbformat_minor": 5
}
